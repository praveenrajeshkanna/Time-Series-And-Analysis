{
  "nbformat": 4,
  "nbformat_minor": 0,
  "metadata": {
    "colab": {
      "provenance": []
    },
    "kernelspec": {
      "name": "python3",
      "display_name": "Python 3"
    },
    "language_info": {
      "name": "python"
    }
  },
  "cells": [
    {
      "cell_type": "code",
      "source": [
        "import pandas as pd\n",
        "from statsmodels.tsa.stattools import adfuller\n",
        "\n",
        "# Load the dataset\n",
        "df = pd.read_csv(\"/content/time-series-19-covid-combined.csv\")\n",
        "\n",
        "# Strip any extra spaces from column names\n",
        "df.columns = df.columns.str.strip()\n",
        "\n",
        "# Show column names to confirm structure\n",
        "print(\"📌 Column names:\", df.columns.tolist())\n",
        "\n",
        "# Convert the 'Date' column to datetime format\n",
        "df[\"Date\"] = pd.to_datetime(df[\"Date\"], format=\"%Y-%m-%d\")\n",
        "df.set_index(\"Date\", inplace=True)\n",
        "\n",
        "# Sort by date to ensure proper time series order\n",
        "df.sort_index(inplace=True)\n",
        "\n",
        "# Group by date to aggregate global confirmed cases per day\n",
        "daily_df = df.groupby(df.index).sum()\n",
        "\n",
        "# Create daily new cases from cumulative 'Confirmed' cases\n",
        "daily_df[\"daily_cases\"] = daily_df[\"Confirmed\"].diff()\n",
        "\n",
        "# Drop NA values\n",
        "ts = daily_df[\"daily_cases\"].dropna()\n",
        "\n",
        "# Perform ADF Test\n",
        "adf_result = adfuller(ts)\n",
        "\n",
        "# Display results\n",
        "print(\"\\n📊 ADF Test Results:\")\n",
        "print(f\"ADF Statistic: {adf_result[0]:.4f}\")\n",
        "print(f\"p-value: {adf_result[1]:.4f}\")\n",
        "print(f\"Used lags: {adf_result[2]}\")\n",
        "print(\"Critical Values:\")\n",
        "for key, value in adf_result[4].items():\n",
        "    print(f\"   {key}: {value:.4f}\")\n",
        "\n",
        "# Interpretation\n",
        "if adf_result[1] < 0.05:\n",
        "    print(\"\\n✅ The series is stationary.\")\n",
        "else:\n",
        "    print(\"\\n❌ The series is NOT stationary.\")\n"
      ],
      "metadata": {
        "colab": {
          "base_uri": "https://localhost:8080/"
        },
        "id": "eTqDy0I6jRGC",
        "outputId": "61f996d0-6d5a-412a-f1bf-ef7fb879f63a"
      },
      "execution_count": 6,
      "outputs": [
        {
          "output_type": "stream",
          "name": "stdout",
          "text": [
            "📌 Column names: ['Date', 'Country/Region', 'Province/State', 'Lat', 'Long', 'Confirmed', 'Recovered', 'Deaths']\n",
            "\n",
            "📊 ADF Test Results:\n",
            "ADF Statistic: 0.3461\n",
            "p-value: 0.9794\n",
            "Used lags: 15\n",
            "Critical Values:\n",
            "   1%: -3.4565\n",
            "   5%: -2.8730\n",
            "   10%: -2.5729\n",
            "\n",
            "❌ The series is NOT stationary.\n"
          ]
        }
      ]
    }
  ]
}